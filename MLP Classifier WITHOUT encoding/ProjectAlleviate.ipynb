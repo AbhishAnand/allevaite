{
  "nbformat": 4,
  "nbformat_minor": 0,
  "metadata": {
    "colab": {
      "name": "ProjectAlleviate.ipynb",
      "provenance": [],
      "collapsed_sections": []
    },
    "kernelspec": {
      "name": "python3",
      "display_name": "Python 3"
    }
  },
  "cells": [
    {
      "cell_type": "code",
      "metadata": {
        "id": "wNqA9GgLPVvw",
        "colab_type": "code",
        "colab": {}
      },
      "source": [
        "import numpy as np"
      ],
      "execution_count": 0,
      "outputs": []
    },
    {
      "cell_type": "code",
      "metadata": {
        "id": "HmGW7DN4SAip",
        "colab_type": "code",
        "colab": {}
      },
      "source": [
        "import pandas as pd\n"
      ],
      "execution_count": 0,
      "outputs": []
    },
    {
      "cell_type": "code",
      "metadata": {
        "id": "SPdpDClESCdY",
        "colab_type": "code",
        "outputId": "2206555b-f8bb-4a4a-e1c2-23d1b2241c62",
        "colab": {
          "base_uri": "https://localhost:8080/",
          "height": 126
        }
      },
      "source": [
        "! git clone https://github.com/sidart069/confessions.git"
      ],
      "execution_count": 3,
      "outputs": [
        {
          "output_type": "stream",
          "text": [
            "Cloning into 'confessions'...\n",
            "remote: Enumerating objects: 3, done.\u001b[K\n",
            "remote: Counting objects:  33% (1/3)\u001b[K\rremote: Counting objects:  66% (2/3)\u001b[K\rremote: Counting objects: 100% (3/3)\u001b[K\rremote: Counting objects: 100% (3/3), done.\u001b[K\n",
            "remote: Compressing objects:  50% (1/2)\u001b[K\rremote: Compressing objects: 100% (2/2)\u001b[K\rremote: Compressing objects: 100% (2/2), done.\u001b[K\n",
            "Unpacking objects:  33% (1/3)   \rUnpacking objects:  66% (2/3)   \rremote: Total 3 (delta 0), reused 0 (delta 0), pack-reused 0\u001b[K\n",
            "Unpacking objects: 100% (3/3)   \rUnpacking objects: 100% (3/3), done.\n"
          ],
          "name": "stdout"
        }
      ]
    },
    {
      "cell_type": "code",
      "metadata": {
        "id": "eX2hKMvhSIus",
        "colab_type": "code",
        "outputId": "b437c73b-3dec-41c0-a7b2-727b34a38d72",
        "colab": {
          "base_uri": "https://localhost:8080/",
          "height": 35
        }
      },
      "source": [
        "! ls"
      ],
      "execution_count": 4,
      "outputs": [
        {
          "output_type": "stream",
          "text": [
            "confessions  sample_data\n"
          ],
          "name": "stdout"
        }
      ]
    },
    {
      "cell_type": "code",
      "metadata": {
        "id": "djtgfQgvShOr",
        "colab_type": "code",
        "colab": {}
      },
      "source": [
        "dataset=pd.read_csv('confessions/final_confessions.csv')"
      ],
      "execution_count": 0,
      "outputs": []
    },
    {
      "cell_type": "code",
      "metadata": {
        "id": "zWh_09YRUGeV",
        "colab_type": "code",
        "outputId": "668da927-edfd-4257-c462-d1db0ad830c9",
        "colab": {
          "base_uri": "https://localhost:8080/",
          "height": 424
        }
      },
      "source": [
        "dataset"
      ],
      "execution_count": 6,
      "outputs": [
        {
          "output_type": "execute_result",
          "data": {
            "text/html": [
              "<div>\n",
              "<style scoped>\n",
              "    .dataframe tbody tr th:only-of-type {\n",
              "        vertical-align: middle;\n",
              "    }\n",
              "\n",
              "    .dataframe tbody tr th {\n",
              "        vertical-align: top;\n",
              "    }\n",
              "\n",
              "    .dataframe thead th {\n",
              "        text-align: right;\n",
              "    }\n",
              "</style>\n",
              "<table border=\"1\" class=\"dataframe\">\n",
              "  <thead>\n",
              "    <tr style=\"text-align: right;\">\n",
              "      <th></th>\n",
              "      <th>Confession</th>\n",
              "      <th>Label</th>\n",
              "    </tr>\n",
              "  </thead>\n",
              "  <tbody>\n",
              "    <tr>\n",
              "      <th>0</th>\n",
              "      <td>['Dandruff\\n', 'i enjoy picking my dandruff th...</td>\n",
              "      <td>Happy</td>\n",
              "    </tr>\n",
              "    <tr>\n",
              "      <th>1</th>\n",
              "      <td>['crush on coworker\\n', '\\n', 'The first time ...</td>\n",
              "      <td>Happy</td>\n",
              "    </tr>\n",
              "    <tr>\n",
              "      <th>2</th>\n",
              "      <td>['Lies\\n', '\\n', 'Sometimes, when the story I\\...</td>\n",
              "      <td>Happy</td>\n",
              "    </tr>\n",
              "    <tr>\n",
              "      <th>3</th>\n",
              "      <td>['bad life choice\\n', '\\n', \"i like bad relati...</td>\n",
              "      <td>Happy</td>\n",
              "    </tr>\n",
              "    <tr>\n",
              "      <th>4</th>\n",
              "      <td>['General Religion\\n', '\\n', 'I enjoy hearing ...</td>\n",
              "      <td>Happy</td>\n",
              "    </tr>\n",
              "    <tr>\n",
              "      <th>...</th>\n",
              "      <td>...</td>\n",
              "      <td>...</td>\n",
              "    </tr>\n",
              "    <tr>\n",
              "      <th>621</th>\n",
              "      <td>['Makeup\\n', '\\n', \"Honestly I don't care for ...</td>\n",
              "      <td>Angry</td>\n",
              "    </tr>\n",
              "    <tr>\n",
              "      <th>622</th>\n",
              "      <td>['revenge is sweet\\n', '\\n', 'I once ran in to...</td>\n",
              "      <td>Angry</td>\n",
              "    </tr>\n",
              "    <tr>\n",
              "      <th>623</th>\n",
              "      <td>['Old Boss\\n', 'I used to work for this total ...</td>\n",
              "      <td>Angry</td>\n",
              "    </tr>\n",
              "    <tr>\n",
              "      <th>624</th>\n",
              "      <td>['ex gf\\n', '\\n', 'after three years of commit...</td>\n",
              "      <td>Angry</td>\n",
              "    </tr>\n",
              "    <tr>\n",
              "      <th>625</th>\n",
              "      <td>['death is the end\\n', '\\n', 'u know, i wld se...</td>\n",
              "      <td>Angry</td>\n",
              "    </tr>\n",
              "  </tbody>\n",
              "</table>\n",
              "<p>626 rows × 2 columns</p>\n",
              "</div>"
            ],
            "text/plain": [
              "                                            Confession  Label\n",
              "0    ['Dandruff\\n', 'i enjoy picking my dandruff th...  Happy\n",
              "1    ['crush on coworker\\n', '\\n', 'The first time ...  Happy\n",
              "2    ['Lies\\n', '\\n', 'Sometimes, when the story I\\...  Happy\n",
              "3    ['bad life choice\\n', '\\n', \"i like bad relati...  Happy\n",
              "4    ['General Religion\\n', '\\n', 'I enjoy hearing ...  Happy\n",
              "..                                                 ...    ...\n",
              "621  ['Makeup\\n', '\\n', \"Honestly I don't care for ...  Angry\n",
              "622  ['revenge is sweet\\n', '\\n', 'I once ran in to...  Angry\n",
              "623  ['Old Boss\\n', 'I used to work for this total ...  Angry\n",
              "624  ['ex gf\\n', '\\n', 'after three years of commit...  Angry\n",
              "625  ['death is the end\\n', '\\n', 'u know, i wld se...  Angry\n",
              "\n",
              "[626 rows x 2 columns]"
            ]
          },
          "metadata": {
            "tags": []
          },
          "execution_count": 6
        }
      ]
    },
    {
      "cell_type": "code",
      "metadata": {
        "id": "YhkSfZZPXurX",
        "colab_type": "code",
        "colab": {}
      },
      "source": [
        "\n",
        "dataset=dataset.sample(frac=1)"
      ],
      "execution_count": 0,
      "outputs": []
    },
    {
      "cell_type": "code",
      "metadata": {
        "id": "hJNrWxeJX5px",
        "colab_type": "code",
        "outputId": "0eeb8f91-eeea-434c-c421-6c851c28e5db",
        "colab": {
          "base_uri": "https://localhost:8080/",
          "height": 424
        }
      },
      "source": [
        "dataset"
      ],
      "execution_count": 8,
      "outputs": [
        {
          "output_type": "execute_result",
          "data": {
            "text/html": [
              "<div>\n",
              "<style scoped>\n",
              "    .dataframe tbody tr th:only-of-type {\n",
              "        vertical-align: middle;\n",
              "    }\n",
              "\n",
              "    .dataframe tbody tr th {\n",
              "        vertical-align: top;\n",
              "    }\n",
              "\n",
              "    .dataframe thead th {\n",
              "        text-align: right;\n",
              "    }\n",
              "</style>\n",
              "<table border=\"1\" class=\"dataframe\">\n",
              "  <thead>\n",
              "    <tr style=\"text-align: right;\">\n",
              "      <th></th>\n",
              "      <th>Confession</th>\n",
              "      <th>Label</th>\n",
              "    </tr>\n",
              "  </thead>\n",
              "  <tbody>\n",
              "    <tr>\n",
              "      <th>384</th>\n",
              "      <td>[\"i don't know\\n\", '\\n', \"you said 'i love you...</td>\n",
              "      <td>Surprise</td>\n",
              "    </tr>\n",
              "    <tr>\n",
              "      <th>167</th>\n",
              "      <td>['I love you\\n', '\\n', \"i told my bf he was th...</td>\n",
              "      <td>Sad</td>\n",
              "    </tr>\n",
              "    <tr>\n",
              "      <th>262</th>\n",
              "      <td>['Jeff\\n', '\\n', \"I miss you. I miss the way y...</td>\n",
              "      <td>Sad</td>\n",
              "    </tr>\n",
              "    <tr>\n",
              "      <th>357</th>\n",
              "      <td>['one time at\\n', '\\n', \"one time at a restura...</td>\n",
              "      <td>Sad</td>\n",
              "    </tr>\n",
              "    <tr>\n",
              "      <th>155</th>\n",
              "      <td>['Gambling\\n', '\\n', \"I have lost 1000 dollers...</td>\n",
              "      <td>Sad</td>\n",
              "    </tr>\n",
              "    <tr>\n",
              "      <th>...</th>\n",
              "      <td>...</td>\n",
              "      <td>...</td>\n",
              "    </tr>\n",
              "    <tr>\n",
              "      <th>414</th>\n",
              "      <td>['I spent the rent money\\n', '\\n', \"I did it a...</td>\n",
              "      <td>Surprise</td>\n",
              "    </tr>\n",
              "    <tr>\n",
              "      <th>187</th>\n",
              "      <td>['Love?\\n', '\\n', \"I don't think anyone will e...</td>\n",
              "      <td>Sad</td>\n",
              "    </tr>\n",
              "    <tr>\n",
              "      <th>622</th>\n",
              "      <td>['revenge is sweet\\n', '\\n', 'I once ran in to...</td>\n",
              "      <td>Angry</td>\n",
              "    </tr>\n",
              "    <tr>\n",
              "      <th>426</th>\n",
              "      <td>['Guilty and Sad\\n', \"I accidentally cut my ha...</td>\n",
              "      <td>Surprise</td>\n",
              "    </tr>\n",
              "    <tr>\n",
              "      <th>76</th>\n",
              "      <td>['ive been stealing\\n', '\\n', 'ive been steali...</td>\n",
              "      <td>Happy</td>\n",
              "    </tr>\n",
              "  </tbody>\n",
              "</table>\n",
              "<p>626 rows × 2 columns</p>\n",
              "</div>"
            ],
            "text/plain": [
              "                                            Confession     Label\n",
              "384  [\"i don't know\\n\", '\\n', \"you said 'i love you...  Surprise\n",
              "167  ['I love you\\n', '\\n', \"i told my bf he was th...       Sad\n",
              "262  ['Jeff\\n', '\\n', \"I miss you. I miss the way y...       Sad\n",
              "357  ['one time at\\n', '\\n', \"one time at a restura...       Sad\n",
              "155  ['Gambling\\n', '\\n', \"I have lost 1000 dollers...       Sad\n",
              "..                                                 ...       ...\n",
              "414  ['I spent the rent money\\n', '\\n', \"I did it a...  Surprise\n",
              "187  ['Love?\\n', '\\n', \"I don't think anyone will e...       Sad\n",
              "622  ['revenge is sweet\\n', '\\n', 'I once ran in to...     Angry\n",
              "426  ['Guilty and Sad\\n', \"I accidentally cut my ha...  Surprise\n",
              "76   ['ive been stealing\\n', '\\n', 'ive been steali...     Happy\n",
              "\n",
              "[626 rows x 2 columns]"
            ]
          },
          "metadata": {
            "tags": []
          },
          "execution_count": 8
        }
      ]
    },
    {
      "cell_type": "code",
      "metadata": {
        "id": "4aBtfikuZdQh",
        "colab_type": "code",
        "outputId": "611489c4-a5a5-4ff3-c29f-01fc0e72ff42",
        "colab": {
          "base_uri": "https://localhost:8080/",
          "height": 235
        }
      },
      "source": [
        "X= dataset.iloc[:,0]\n",
        "X"
      ],
      "execution_count": 9,
      "outputs": [
        {
          "output_type": "execute_result",
          "data": {
            "text/plain": [
              "384    [\"i don't know\\n\", '\\n', \"you said 'i love you...\n",
              "167    ['I love you\\n', '\\n', \"i told my bf he was th...\n",
              "262    ['Jeff\\n', '\\n', \"I miss you. I miss the way y...\n",
              "357    ['one time at\\n', '\\n', \"one time at a restura...\n",
              "155    ['Gambling\\n', '\\n', \"I have lost 1000 dollers...\n",
              "                             ...                        \n",
              "414    ['I spent the rent money\\n', '\\n', \"I did it a...\n",
              "187    ['Love?\\n', '\\n', \"I don't think anyone will e...\n",
              "622    ['revenge is sweet\\n', '\\n', 'I once ran in to...\n",
              "426    ['Guilty and Sad\\n', \"I accidentally cut my ha...\n",
              "76     ['ive been stealing\\n', '\\n', 'ive been steali...\n",
              "Name: Confession, Length: 626, dtype: object"
            ]
          },
          "metadata": {
            "tags": []
          },
          "execution_count": 9
        }
      ]
    },
    {
      "cell_type": "code",
      "metadata": {
        "id": "fFAs7IS9Zdlp",
        "colab_type": "code",
        "outputId": "a7b696d4-080e-444d-f39d-edf9a60391aa",
        "colab": {
          "base_uri": "https://localhost:8080/",
          "height": 235
        }
      },
      "source": [
        "y= dataset.iloc[:,1]\n",
        "y"
      ],
      "execution_count": 10,
      "outputs": [
        {
          "output_type": "execute_result",
          "data": {
            "text/plain": [
              "384    Surprise\n",
              "167         Sad\n",
              "262         Sad\n",
              "357         Sad\n",
              "155         Sad\n",
              "         ...   \n",
              "414    Surprise\n",
              "187         Sad\n",
              "622       Angry\n",
              "426    Surprise\n",
              "76        Happy\n",
              "Name: Label, Length: 626, dtype: object"
            ]
          },
          "metadata": {
            "tags": []
          },
          "execution_count": 10
        }
      ]
    },
    {
      "cell_type": "code",
      "metadata": {
        "id": "47k3eYu9UaAN",
        "colab_type": "code",
        "colab": {}
      },
      "source": [
        "import re"
      ],
      "execution_count": 0,
      "outputs": []
    },
    {
      "cell_type": "code",
      "metadata": {
        "id": "HWBW7TyBUePv",
        "colab_type": "code",
        "outputId": "73bf4c0e-18c5-4fd5-ee8d-a9b3fdd10eaf",
        "colab": {
          "base_uri": "https://localhost:8080/",
          "height": 72
        }
      },
      "source": [
        "import nltk\n",
        "nltk.download('stopwords')"
      ],
      "execution_count": 12,
      "outputs": [
        {
          "output_type": "stream",
          "text": [
            "[nltk_data] Downloading package stopwords to /root/nltk_data...\n",
            "[nltk_data]   Unzipping corpora/stopwords.zip.\n"
          ],
          "name": "stdout"
        },
        {
          "output_type": "execute_result",
          "data": {
            "text/plain": [
              "True"
            ]
          },
          "metadata": {
            "tags": []
          },
          "execution_count": 12
        }
      ]
    },
    {
      "cell_type": "code",
      "metadata": {
        "id": "5SBMf5OiUfom",
        "colab_type": "code",
        "colab": {}
      },
      "source": [
        "from nltk.corpus import stopwords #to include all stopwordsthat we downloaded\n",
        "from nltk.stem.porter import PorterStemmer\n",
        "corpus= []\n",
        "for i in range(0,626):\n",
        "    conf = re.sub('[^a-zA-Z]',' ',dataset['Confession'][i])#a-zA-Z will be kept only \n",
        "    conf = conf.lower()#all the review words will be converted in lower case    \n",
        "    conf = conf.split() #the words are split and stored in a list\n",
        "    ps =PorterStemmer() #PorterStemmer is used to stem the past or some other tense word into root terms\n",
        "    conf = [ps.stem(word) for word in conf if not word in set(stopwords.words('english'))]\n",
        "    conf =' '.join(conf)\n",
        "    corpus.append(conf)\n",
        "#corpus is a collection of words, texts , articles or books"
      ],
      "execution_count": 0,
      "outputs": []
    },
    {
      "cell_type": "code",
      "metadata": {
        "id": "mtXhwy2zUfrm",
        "colab_type": "code",
        "colab": {}
      },
      "source": [
        "from sklearn.feature_extraction.text import CountVectorizer\n",
        "cv = CountVectorizer(max_features =100)\n",
        "X = cv.fit_transform(corpus).toarray()"
      ],
      "execution_count": 0,
      "outputs": []
    },
    {
      "cell_type": "code",
      "metadata": {
        "id": "6_Ik34z3Ufu8",
        "colab_type": "code",
        "colab": {}
      },
      "source": [
        "y = dataset.iloc[:, 1]"
      ],
      "execution_count": 0,
      "outputs": []
    },
    {
      "cell_type": "code",
      "metadata": {
        "id": "7ER26o8aUf1K",
        "colab_type": "code",
        "colab": {}
      },
      "source": [
        "from sklearn.model_selection import train_test_split\n",
        "x_train, x_test , y_train, y_test= train_test_split(X, y, test_size=0.20, random_state=0)"
      ],
      "execution_count": 0,
      "outputs": []
    },
    {
      "cell_type": "code",
      "metadata": {
        "id": "PpSmzgQNUf4v",
        "colab_type": "code",
        "outputId": "87d7e31e-6814-4c72-f038-423e60b9ce91",
        "colab": {
          "base_uri": "https://localhost:8080/",
          "height": 35
        }
      },
      "source": [
        "from sklearn.naive_bayes import GaussianNB\n",
        "classifier= GaussianNB()\n",
        "classifier.fit(x_train, y_train)"
      ],
      "execution_count": 21,
      "outputs": [
        {
          "output_type": "execute_result",
          "data": {
            "text/plain": [
              "GaussianNB(priors=None, var_smoothing=1e-09)"
            ]
          },
          "metadata": {
            "tags": []
          },
          "execution_count": 21
        }
      ]
    },
    {
      "cell_type": "code",
      "metadata": {
        "id": "F0sBQwApUf7r",
        "colab_type": "code",
        "colab": {}
      },
      "source": [
        "y_pred= classifier.predict(x_test)"
      ],
      "execution_count": 0,
      "outputs": []
    },
    {
      "cell_type": "code",
      "metadata": {
        "id": "EGe7X7l8Uf97",
        "colab_type": "code",
        "colab": {}
      },
      "source": [
        "from sklearn.metrics import confusion_matrix\n",
        "cm = confusion_matrix(y_test , y_pred)"
      ],
      "execution_count": 0,
      "outputs": []
    },
    {
      "cell_type": "code",
      "metadata": {
        "id": "BdO9no_LUgAS",
        "colab_type": "code",
        "outputId": "28d6be52-5c90-45cd-b427-5a768127c950",
        "colab": {
          "base_uri": "https://localhost:8080/",
          "height": 90
        }
      },
      "source": [
        "cm"
      ],
      "execution_count": 24,
      "outputs": [
        {
          "output_type": "execute_result",
          "data": {
            "text/plain": [
              "array([[11,  1, 12,  5],\n",
              "       [ 6,  0,  3,  3],\n",
              "       [25,  6, 22,  8],\n",
              "       [13,  4,  4,  3]])"
            ]
          },
          "metadata": {
            "tags": []
          },
          "execution_count": 24
        }
      ]
    },
    {
      "cell_type": "code",
      "metadata": {
        "id": "RA2eh4jMUgDJ",
        "colab_type": "code",
        "colab": {}
      },
      "source": [
        " from sklearn.metrics import accuracy_score"
      ],
      "execution_count": 0,
      "outputs": []
    },
    {
      "cell_type": "code",
      "metadata": {
        "id": "ztlHSih2UgGP",
        "colab_type": "code",
        "outputId": "5c755e82-f6a3-43b7-9ba0-cef896bcf504",
        "colab": {
          "base_uri": "https://localhost:8080/",
          "height": 35
        }
      },
      "source": [
        "print(accuracy_score(y_test,y_pred))"
      ],
      "execution_count": 26,
      "outputs": [
        {
          "output_type": "stream",
          "text": [
            "0.2857142857142857\n"
          ],
          "name": "stdout"
        }
      ]
    },
    {
      "cell_type": "code",
      "metadata": {
        "id": "D5-tzegRUgMI",
        "colab_type": "code",
        "colab": {}
      },
      "source": [
        "from sklearn.svm import SVC\n"
      ],
      "execution_count": 0,
      "outputs": []
    },
    {
      "cell_type": "code",
      "metadata": {
        "id": "erLPLpKJUgO-",
        "colab_type": "code",
        "outputId": "6df945cf-7463-4609-8398-1b0c9e71318b",
        "colab": {
          "base_uri": "https://localhost:8080/",
          "height": 90
        }
      },
      "source": [
        "svc= SVC()\n",
        "svc.fit(x_train,y_train)"
      ],
      "execution_count": 28,
      "outputs": [
        {
          "output_type": "execute_result",
          "data": {
            "text/plain": [
              "SVC(C=1.0, break_ties=False, cache_size=200, class_weight=None, coef0=0.0,\n",
              "    decision_function_shape='ovr', degree=3, gamma='scale', kernel='rbf',\n",
              "    max_iter=-1, probability=False, random_state=None, shrinking=True,\n",
              "    tol=0.001, verbose=False)"
            ]
          },
          "metadata": {
            "tags": []
          },
          "execution_count": 28
        }
      ]
    },
    {
      "cell_type": "code",
      "metadata": {
        "id": "eXoN_aiFUgRm",
        "colab_type": "code",
        "colab": {}
      },
      "source": [
        "from sklearn.metrics import confusion_matrix\n",
        "cm = confusion_matrix(y_test , y_pred)"
      ],
      "execution_count": 0,
      "outputs": []
    },
    {
      "cell_type": "code",
      "metadata": {
        "id": "tJlPY0XzUfyj",
        "colab_type": "code",
        "outputId": "39b66691-8e00-4c9e-d1f2-d390a243467f",
        "colab": {
          "base_uri": "https://localhost:8080/",
          "height": 90
        }
      },
      "source": [
        "cm"
      ],
      "execution_count": 30,
      "outputs": [
        {
          "output_type": "execute_result",
          "data": {
            "text/plain": [
              "array([[11,  1, 12,  5],\n",
              "       [ 6,  0,  3,  3],\n",
              "       [25,  6, 22,  8],\n",
              "       [13,  4,  4,  3]])"
            ]
          },
          "metadata": {
            "tags": []
          },
          "execution_count": 30
        }
      ]
    },
    {
      "cell_type": "code",
      "metadata": {
        "id": "2fYqGC2bgEnD",
        "colab_type": "code",
        "outputId": "140d00a0-a36d-4802-b349-b6c756642556",
        "colab": {
          "base_uri": "https://localhost:8080/",
          "height": 35
        }
      },
      "source": [
        "print(accuracy_score(y_test,y_pred))"
      ],
      "execution_count": 31,
      "outputs": [
        {
          "output_type": "stream",
          "text": [
            "0.2857142857142857\n"
          ],
          "name": "stdout"
        }
      ]
    },
    {
      "cell_type": "code",
      "metadata": {
        "id": "JRd78bcZgErB",
        "colab_type": "code",
        "colab": {}
      },
      "source": [
        "from sklearn.neural_network import MLPClassifier"
      ],
      "execution_count": 0,
      "outputs": []
    },
    {
      "cell_type": "code",
      "metadata": {
        "id": "wHbxUnc-gEu6",
        "colab_type": "code",
        "outputId": "4b7856dc-a790-4b59-a623-ae15f1c10128",
        "colab": {
          "base_uri": "https://localhost:8080/",
          "height": 219
        }
      },
      "source": [
        "clf = MLPClassifier()\n",
        "clf.fit(x_train, y_train)"
      ],
      "execution_count": 33,
      "outputs": [
        {
          "output_type": "stream",
          "text": [
            "/usr/local/lib/python3.6/dist-packages/sklearn/neural_network/_multilayer_perceptron.py:571: ConvergenceWarning: Stochastic Optimizer: Maximum iterations (200) reached and the optimization hasn't converged yet.\n",
            "  % self.max_iter, ConvergenceWarning)\n"
          ],
          "name": "stderr"
        },
        {
          "output_type": "execute_result",
          "data": {
            "text/plain": [
              "MLPClassifier(activation='relu', alpha=0.0001, batch_size='auto', beta_1=0.9,\n",
              "              beta_2=0.999, early_stopping=False, epsilon=1e-08,\n",
              "              hidden_layer_sizes=(100,), learning_rate='constant',\n",
              "              learning_rate_init=0.001, max_fun=15000, max_iter=200,\n",
              "              momentum=0.9, n_iter_no_change=10, nesterovs_momentum=True,\n",
              "              power_t=0.5, random_state=None, shuffle=True, solver='adam',\n",
              "              tol=0.0001, validation_fraction=0.1, verbose=False,\n",
              "              warm_start=False)"
            ]
          },
          "metadata": {
            "tags": []
          },
          "execution_count": 33
        }
      ]
    },
    {
      "cell_type": "code",
      "metadata": {
        "id": "ziWtCGw7gE0W",
        "colab_type": "code",
        "outputId": "d7f7cdf9-a563-43a6-be41-74351b3d5272",
        "colab": {
          "base_uri": "https://localhost:8080/",
          "height": 35
        }
      },
      "source": [
        "clf.score(x_test,y_test)"
      ],
      "execution_count": 34,
      "outputs": [
        {
          "output_type": "execute_result",
          "data": {
            "text/plain": [
              "0.373015873015873"
            ]
          },
          "metadata": {
            "tags": []
          },
          "execution_count": 34
        }
      ]
    },
    {
      "cell_type": "code",
      "metadata": {
        "id": "fFG1MEp3gE3N",
        "colab_type": "code",
        "colab": {}
      },
      "source": [
        "import pickle"
      ],
      "execution_count": 0,
      "outputs": []
    },
    {
      "cell_type": "code",
      "metadata": {
        "id": "WKYYw_s6gE7y",
        "colab_type": "code",
        "colab": {
          "base_uri": "https://localhost:8080/",
          "height": 35
        },
        "outputId": "84ab5aa5-cfb5-4711-c66c-275a9c23201a"
      },
      "source": [
        "# save the model to disk\n",
        "filename = 'finalized_model_NOTlabelencoded.sav'\n",
        "pickle.dump(clf, open(filename, 'wb'))\n",
        "loaded_model = pickle.load(open(filename, 'rb'))\n",
        "result = loaded_model.score(x_test, y_test)\n",
        "print(result)"
      ],
      "execution_count": 38,
      "outputs": [
        {
          "output_type": "stream",
          "text": [
            "0.373015873015873\n"
          ],
          "name": "stdout"
        }
      ]
    },
    {
      "cell_type": "code",
      "metadata": {
        "id": "uINU4Yu3gE53",
        "colab_type": "code",
        "colab": {
          "base_uri": "https://localhost:8080/",
          "height": 35
        },
        "outputId": "335e4598-a695-42e2-e7a4-b9570edec43e"
      },
      "source": [
        "from sklearn.externals import joblib\n",
        "joblib.dump(clf, 'MLP_classifier_model_alleviate.pkl')"
      ],
      "execution_count": 40,
      "outputs": [
        {
          "output_type": "execute_result",
          "data": {
            "text/plain": [
              "['MLP_classifier_model_alleviate.pkl']"
            ]
          },
          "metadata": {
            "tags": []
          },
          "execution_count": 40
        }
      ]
    },
    {
      "cell_type": "code",
      "metadata": {
        "id": "lRuvR7sUgElQ",
        "colab_type": "code",
        "colab": {}
      },
      "source": [
        ""
      ],
      "execution_count": 0,
      "outputs": []
    },
    {
      "cell_type": "markdown",
      "metadata": {
        "id": "V-ipbY-zN_94",
        "colab_type": "text"
      },
      "source": [
        "# New Section"
      ]
    }
  ]
}